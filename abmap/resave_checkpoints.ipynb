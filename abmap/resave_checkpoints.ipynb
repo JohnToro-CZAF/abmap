{
 "cells": [
  {
   "cell_type": "code",
   "execution_count": 3,
   "metadata": {},
   "outputs": [],
   "source": [
    "import torch\n",
    "import abmap"
   ]
  },
  {
   "cell_type": "code",
   "execution_count": 4,
   "metadata": {},
   "outputs": [],
   "source": [
    "def load_abmap(pretrained_path, plm_name, device=0):\n",
    "    '''\n",
    "    Load AbMAP weights\n",
    "    '''\n",
    "    dev = torch.device(f'cuda:{device}' if torch.cuda.is_available() else \"cpu\")\n",
    "    abmap.reload_models_to_device(device, plm_name)\n",
    "\n",
    "    # load pre-trained model into device\n",
    "    if plm_name == 'beplerberger':\n",
    "        pretrained = abmap.AbMAPAttn(embed_dim=2200, mid_dim2=1024, mid_dim3=512, \n",
    "                                     proj_dim=252, num_enc_layers=1, num_heads=16).to(dev)\n",
    "    if plm_name == 'protbert':\n",
    "        pretrained = abmap.AbMAPAttn(embed_dim=1024, mid_dim2=512, mid_dim3=256, \n",
    "                                     proj_dim=252, num_enc_layers=1, num_heads=16).to(dev)\n",
    "    if plm_name == 'esm1b':\n",
    "        pretrained = abmap.AbMAPAttn(embed_dim=1280, mid_dim2=512, mid_dim3=256, \n",
    "                                     proj_dim=252, num_enc_layers=1, num_heads=16).to(dev)\n",
    "    if plm_name == 'tape':\n",
    "        pretrained = abmap.AbMAPAttn(embed_dim=768, mid_dim2=256, mid_dim3=128, \n",
    "                                     proj_dim=60, num_enc_layers=1, num_heads=8).to(dev)\n",
    "    return pretrained"
   ]
  },
  {
   "cell_type": "code",
   "execution_count": 14,
   "metadata": {},
   "outputs": [
    {
     "name": "stdout",
     "output_type": "stream",
     "text": [
      "protbert loaded to cuda:0\n"
     ]
    },
    {
     "name": "stderr",
     "output_type": "stream",
     "text": [
      "Some weights of the model checkpoint at Rostlab/prot_bert were not used when initializing BertModel: ['cls.seq_relationship.weight', 'cls.predictions.decoder.bias', 'cls.predictions.transform.dense.weight', 'cls.seq_relationship.bias', 'cls.predictions.decoder.weight', 'cls.predictions.transform.dense.bias', 'cls.predictions.transform.LayerNorm.weight', 'cls.predictions.bias', 'cls.predictions.transform.LayerNorm.bias']\n",
      "- This IS expected if you are initializing BertModel from the checkpoint of a model trained on another task or with another architecture (e.g. initializing a BertForSequenceClassification model from a BertForPreTraining model).\n",
      "- This IS NOT expected if you are initializing BertModel from the checkpoint of a model that you expect to be exactly identical (initializing a BertForSequenceClassification model from a BertForSequenceClassification model).\n"
     ]
    }
   ],
   "source": [
    "# Resave ESM1b as model weights only\n",
    "H_path = '../pretrained_models/AbMAP_protbert_L_epoch50.pt'\n",
    "pretrained = load_abmap(H_path, plm_name='protbert', device=0)\n",
    "dev = torch.device(f'cuda:{0}' if torch.cuda.is_available() else \"cpu\")\n",
    "checkpoint = torch.load(H_path, map_location=dev)\n",
    "pretrained.load_state_dict(checkpoint['model_state_dict'])\n",
    "torch.save(pretrained.state_dict(), '../pretrained_models/AbMAP_protbert_L.pt')"
   ]
  },
  {
   "cell_type": "code",
   "execution_count": 10,
   "metadata": {},
   "outputs": [],
   "source": []
  },
  {
   "cell_type": "code",
   "execution_count": null,
   "metadata": {},
   "outputs": [],
   "source": []
  }
 ],
 "metadata": {
  "kernelspec": {
   "display_name": "abmap_eval",
   "language": "python",
   "name": "python3"
  },
  "language_info": {
   "codemirror_mode": {
    "name": "ipython",
    "version": 3
   },
   "file_extension": ".py",
   "mimetype": "text/x-python",
   "name": "python",
   "nbconvert_exporter": "python",
   "pygments_lexer": "ipython3",
   "version": "3.9.16"
  },
  "orig_nbformat": 4
 },
 "nbformat": 4,
 "nbformat_minor": 2
}
